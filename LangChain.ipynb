{
  "nbformat": 4,
  "nbformat_minor": 0,
  "metadata": {
    "colab": {
      "provenance": [],
      "gpuType": "T4",
      "authorship_tag": "ABX9TyNC8wIrmDYfJV3lQwsyFQR0",
      "include_colab_link": true
    },
    "kernelspec": {
      "name": "python3",
      "display_name": "Python 3"
    },
    "language_info": {
      "name": "python"
    },
    "accelerator": "GPU",
    "gpuClass": "standard"
  },
  "cells": [
    {
      "cell_type": "markdown",
      "metadata": {
        "id": "view-in-github",
        "colab_type": "text"
      },
      "source": [
        "<a href=\"https://colab.research.google.com/github/himalayahall/LargeLanguageModels/blob/main/LangChain.ipynb\" target=\"_parent\"><img src=\"https://colab.research.google.com/assets/colab-badge.svg\" alt=\"Open In Colab\"/></a>"
      ]
    },
    {
      "cell_type": "markdown",
      "source": [
        "[![Open In Colab](https://colab.research.google.com/assets/colab-badge.svg)](https://colab.research.google.com/github/pinecone-io/examples/blob/master/generation/langchain/handbook/00-langchain-intro.ipynb) [![Open nbviewer](https://raw.githubusercontent.com/pinecone-io/examples/master/assets/nbviewer-shield.svg)](https://nbviewer.org/github/pinecone-io/examples/blob/master/generation/langchain/handbook/00-langchain-intro.ipynb)\n",
        "\n",
        "#### [LangChain Handbook](https://github.com/pinecone-io/examples/tree/master/generation/langchain/handbook)\n",
        "\n",
        "# Intro to LangChain\n",
        "\n",
        "LangChain is a popular framework that allow users to quickly build apps and pipelines around **L**arge **L**anguage **M**odels. It can be used to for chatbots, **G**enerative **Q**uestion-**A**nwering (GQA), summarization, and much more.\n",
        "\n",
        "The core idea of the library is that we can _\"chain\"_ together different components to create more advanced use-cases around LLMs. Chains may consist of multiple components from several modules:\n",
        "\n",
        "* **Prompt templates**: Prompt templates are, well, templates for different types of prompts. Like \"chatbot\" style templates, ELI5 question-answering, etc\n",
        "\n",
        "* **LLMs**: Large language models like GPT-3, BLOOM, etc\n",
        "\n",
        "* **Agents**: Agents use LLMs to decide what actions should be taken, tools like web search or calculators can be used, and all packaged into logical loop of operations.\n",
        "\n",
        "* **Memory**: Short-term memory, long-term memory."
      ],
      "metadata": {
        "id": "F2UA2N5vPqtY"
      }
    },
    {
      "cell_type": "markdown",
      "source": [
        "# Prompt Engineering\n",
        "\n",
        "This notebook is inspired by the material found on [Pinecone](https://www.pinecone.io/learn/langchain-prompt-templates/).\n",
        "\n"
      ],
      "metadata": {
        "id": "Y3nnfk81KMcC"
      }
    },
    {
      "cell_type": "code",
      "execution_count": null,
      "metadata": {
        "id": "L8gPtd2D7yQE"
      },
      "outputs": [],
      "source": [
        "# Install Langchain and OpenAI\n",
        "\n",
        "!pip install langchain > /dev/null\n",
        "!pip install openai > /dev/null"
      ]
    },
    {
      "cell_type": "markdown",
      "source": [
        "### Setup API KEY\n",
        "\n",
        "In order to access any LLM endpoint - whether it is Open Source or paid - we need the corresponding API Key.\n",
        "\n",
        "We can use *getpass* to prompt user for the API Key."
      ],
      "metadata": {
        "id": "Sz1z4YYiK08j"
      }
    },
    {
      "cell_type": "code",
      "source": [
        "from getpass import getpass\n",
        "\n",
        "API_KEY = getpass()"
      ],
      "metadata": {
        "colab": {
          "base_uri": "https://localhost:8080/"
        },
        "id": "ZM2szXnf8Z2J",
        "outputId": "ae13a695-2324-41ae-c45c-ba46cc7f93d8"
      },
      "execution_count": null,
      "outputs": [
        {
          "name": "stdout",
          "output_type": "stream",
          "text": [
            "··········\n"
          ]
        }
      ]
    },
    {
      "cell_type": "code",
      "source": [
        "import os\n",
        "\n",
        "# Store API KEY in environment\n",
        "os.environ[\"OPENAI_API_KEY\"] = API_KEY"
      ],
      "metadata": {
        "id": "M0Q3xnkZ84ir"
      },
      "execution_count": null,
      "outputs": []
    },
    {
      "cell_type": "markdown",
      "source": [
        "### Select and configure model"
      ],
      "metadata": {
        "id": "Z7rorx58Lbn7"
      }
    },
    {
      "cell_type": "code",
      "source": [
        "from langchain.llms import OpenAI\n",
        "\n",
        "llm = OpenAI(model_name=\"text-davinci-003\")\n",
        "llm.temperature=0.1\n",
        "\n",
        "# Alternatively, open-source LLM hosted on Hugging Face\n",
        "# pip install huggingface_hub\n",
        "# from langchain import HuggingFaceHub\n",
        "# llm = HuggingFaceHub(repo_id = \"google/flan-t5-xl\", model_kwargs={\"temperature\":1e-10, \"max_length\":64})"
      ],
      "metadata": {
        "id": "OW1qmano8LQA"
      },
      "execution_count": null,
      "outputs": []
    },
    {
      "cell_type": "markdown",
      "source": [
        "### Q&A using PromptTemplate\n",
        "\n",
        "See [Pinecone](https://www.pinecone.io/learn/langchain-prompt-templates/#prompt-engineering) for details"
      ],
      "metadata": {
        "id": "w8IYSQp1EX4x"
      }
    },
    {
      "cell_type": "code",
      "source": [
        "from langchain import PromptTemplate\n",
        "\n",
        "template = \"\"\"\n",
        "Answer the question based on the context below. If the\n",
        "question cannot be answered using the information provided answer\n",
        "with \"I don't know\".\n",
        "\n",
        "Context: Cricket is a sport played in many countries. Past Cricket World Cup performances and One Day International (ODI) match results for the past 3 years are important indicators of a teams's performance.\n",
        "Question: {question}\n",
        "Answer: \n",
        "\n",
        "\"\"\"\n",
        "prompt_template = PromptTemplate(\n",
        "          template=template,\n",
        "          input_variables=['question'],\n",
        "          validate_template=True)"
      ],
      "metadata": {
        "id": "aHZhRbgwMxEW"
      },
      "execution_count": null,
      "outputs": []
    },
    {
      "cell_type": "markdown",
      "source": [
        "### Setup Query"
      ],
      "metadata": {
        "id": "9OBBupiSL8D5"
      }
    },
    {
      "cell_type": "code",
      "source": [
        "question = \"Based on past World Cup and ODI matches, name the 5 top performing countries in the world. For each country you selected, explain the reason it was selected\""
      ],
      "metadata": {
        "id": "FR0r5rN0FmN4"
      },
      "execution_count": null,
      "outputs": []
    },
    {
      "cell_type": "code",
      "source": [
        "print(\n",
        "    prompt_template.format(\n",
        "        question=question\n",
        "    )\n",
        ")"
      ],
      "metadata": {
        "colab": {
          "base_uri": "https://localhost:8080/"
        },
        "id": "6g5vnJVfHqwo",
        "outputId": "82c8a819-82c6-4ee6-d445-0ff8abc631da"
      },
      "execution_count": null,
      "outputs": [
        {
          "output_type": "stream",
          "name": "stdout",
          "text": [
            "\n",
            "Answer the question based on the context below. If the\n",
            "question cannot be answered using the information provided answer\n",
            "with \"I don't know\".\n",
            "\n",
            "Context: Cricket is a sport played in many countries. Past Cricket World Cup performances and One Day International (ODI) match results for the past 3 years are important indicators of a teams's performance.\n",
            "Question: Based on past World Cup and ODI matches, name the 5 top performing countries in the world. For each country you selected, explain the reason it was selected\n",
            "Answer: \n",
            "\n",
            "\n"
          ]
        }
      ]
    },
    {
      "cell_type": "markdown",
      "source": [
        "### Create LLMChain"
      ],
      "metadata": {
        "id": "Z-6oZ986MASe"
      }
    },
    {
      "cell_type": "code",
      "source": [
        "from langchain import LLMChain\n",
        "\n",
        "llm_chain = LLMChain(prompt=prompt_template, llm=llm)"
      ],
      "metadata": {
        "id": "UhA4sc7GDSQa"
      },
      "execution_count": null,
      "outputs": []
    },
    {
      "cell_type": "markdown",
      "source": [
        "### Call LLM endpoint"
      ],
      "metadata": {
        "id": "M3XujYIVMDne"
      }
    },
    {
      "cell_type": "code",
      "source": [
        "# create prompt template > LLM chain\n",
        "llm_chain = LLMChain(\n",
        "    prompt=prompt_template,\n",
        "    llm=llm\n",
        ")\n",
        "\n",
        "# ask the user question\n",
        "print(llm_chain.run(question))"
      ],
      "metadata": {
        "colab": {
          "base_uri": "https://localhost:8080/"
        },
        "id": "MKhJ13gIle56",
        "outputId": "10412e2b-5a20-44a8-af74-9204987026c3"
      },
      "execution_count": null,
      "outputs": [
        {
          "output_type": "stream",
          "name": "stdout",
          "text": [
            "1. India: India has consistently been one of the top performing teams in the world, having won the Cricket World Cup in 2011 and reaching the semi-finals in 2019.\n",
            "2. England: England has been a consistent performer in the World Cup, having reached the final in 2019 and the semi-finals in 2015.\n",
            "3. Australia: Australia has won the World Cup 5 times and has consistently been one of the top performing teams in the world.\n",
            "4. New Zealand: New Zealand has been a consistent performer in the World Cup, having reached the final in 2019 and the semi-finals in 2015.\n",
            "5. South Africa: South Africa has been a consistent performer in the World Cup, having reached the semi-finals in 2019 and the quarter-finals in 2015.\n"
          ]
        }
      ]
    }
  ]
}