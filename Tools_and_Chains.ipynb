{
  "nbformat": 4,
  "nbformat_minor": 0,
  "metadata": {
    "colab": {
      "provenance": [],
      "gpuType": "T4",
      "authorship_tag": "ABX9TyPSojunBafJnlBsEwZrIwob",
      "include_colab_link": true
    },
    "kernelspec": {
      "name": "python3",
      "display_name": "Python 3"
    },
    "language_info": {
      "name": "python"
    },
    "gpuClass": "standard"
  },
  "cells": [
    {
      "cell_type": "markdown",
      "metadata": {
        "id": "view-in-github",
        "colab_type": "text"
      },
      "source": [
        "<a href=\"https://colab.research.google.com/github/himalayahall/LargeLanguageModels/blob/main/Tools_and_Chains.ipynb\" target=\"_parent\"><img src=\"https://colab.research.google.com/assets/colab-badge.svg\" alt=\"Open In Colab\"/></a>"
      ]
    },
    {
      "cell_type": "markdown",
      "source": [
        "[![Open In Colab](https://colab.research.google.com/assets/colab-badge.svg)](https://colab.research.google.com/github/pinecone-io/examples/blob/master/generation/langchain/handbook/00-langchain-intro.ipynb) [![Open nbviewer](https://raw.githubusercontent.com/pinecone-io/examples/master/assets/nbviewer-shield.svg)](https://nbviewer.org/github/pinecone-io/examples/blob/master/generation/langchain/handbook/00-langchain-intro.ipynb)\n",
        "\n",
        "#### [LangChain Handbook](https://github.com/pinecone-io/examples/tree/master/generation/langchain/handbook)\n",
        "\n",
        "# Intro to LangChain\n",
        "\n",
        "LangChain is a popular framework that allow users to quickly build apps and pipelines around **L**arge **L**anguage **M**odels. It can be used to for chatbots, **G**enerative **Q**uestion-**A**nwering (GQA), summarization, and much more.\n",
        "\n",
        "The core idea of the library is that we can _\"chain\"_ together different components to create more advanced use-cases around LLMs. Chains may consist of multiple components from several modules:\n",
        "\n",
        "* **Prompt templates**: Prompt templates are, well, templates for different types of prompts. Like \"chatbot\" style templates, ELI5 question-answering, etc\n",
        "\n",
        "* **LLMs**: Large language models like GPT-3, BLOOM, etc\n",
        "\n",
        "* **Agents**: Agents use LLMs to decide what actions should be taken, tools like web search or calculators can be used, and all packaged into logical loop of operations.\n",
        "\n",
        "* **Memory**: Short-term memory, long-term memory."
      ],
      "metadata": {
        "id": "F2UA2N5vPqtY"
      }
    },
    {
      "cell_type": "markdown",
      "source": [
        "# Tools and Chains\n",
        "\n",
        "This notebook is inspired by the material found on [here](https://www.youtube.com/watch?v=hI2BY7yl_Ac).\n",
        "\n"
      ],
      "metadata": {
        "id": "Y3nnfk81KMcC"
      }
    },
    {
      "cell_type": "code",
      "execution_count": null,
      "metadata": {
        "id": "L8gPtd2D7yQE"
      },
      "outputs": [],
      "source": [
        "# Install Langchain and OpenAI\n",
        "\n",
        "!pip install langchain > /dev/null\n",
        "!pip install openai > /dev/null"
      ]
    },
    {
      "cell_type": "markdown",
      "source": [
        "### Setup API KEY\n",
        "\n",
        "In order to access any LLM endpoint - whether it is Open Source or paid - we need the corresponding API Key.\n",
        "\n",
        "We can use *getpass* to prompt user for the API Key."
      ],
      "metadata": {
        "id": "Sz1z4YYiK08j"
      }
    },
    {
      "cell_type": "code",
      "source": [
        "from getpass import getpass\n",
        "\n",
        "API_KEY = getpass()"
      ],
      "metadata": {
        "colab": {
          "base_uri": "https://localhost:8080/"
        },
        "id": "ZM2szXnf8Z2J",
        "outputId": "8a26e25b-c2cf-4481-8ac7-957c771c7990"
      },
      "execution_count": null,
      "outputs": [
        {
          "name": "stdout",
          "output_type": "stream",
          "text": [
            "··········\n"
          ]
        }
      ]
    },
    {
      "cell_type": "code",
      "source": [
        "import os\n",
        "\n",
        "# Store API KEY in environment\n",
        "os.environ[\"OPENAI_API_KEY\"] = API_KEY"
      ],
      "metadata": {
        "id": "M0Q3xnkZ84ir"
      },
      "execution_count": null,
      "outputs": []
    },
    {
      "cell_type": "code",
      "source": [
        "from langchain.llms import OpenAI\n",
        "\n",
        "llm = OpenAI(model_name=\"text-davinci-003\", max_tokens=256, temperature=0.0)\n",
        "\n",
        "# Alternatively, open-source LLM hosted on Hugging Face\n",
        "# pip install huggingface_hub\n",
        "# from langchain import HuggingFaceHub\n",
        "# llm = HuggingFaceHub(repo_id = \"google/flan-t5-xl\", model_kwargs={\"temperature\":1e-10, \"max_length\":64})"
      ],
      "metadata": {
        "id": "OW1qmano8LQA"
      },
      "execution_count": null,
      "outputs": []
    },
    {
      "cell_type": "markdown",
      "source": [
        "## Basic LLMChain\n",
        "\n",
        "### Fact extraction"
      ],
      "metadata": {
        "id": "w8IYSQp1EX4x"
      }
    },
    {
      "cell_type": "code",
      "source": [
        "article = '''\n",
        "Coinbase, the second largets crypto exchange by trading volume, released its Q4 2022 earnings on Tuesday showing it's earnings were down 65% to $515 million and operating expenses were up 5% to $750 million.\n",
        "'''\n",
        "len(article)"
      ],
      "metadata": {
        "colab": {
          "base_uri": "https://localhost:8080/"
        },
        "id": "OtHuDiEz2AtB",
        "outputId": "5512e9da-c582-4f84-d59b-18f64b41f01c"
      },
      "execution_count": null,
      "outputs": [
        {
          "output_type": "execute_result",
          "data": {
            "text/plain": [
              "209"
            ]
          },
          "metadata": {},
          "execution_count": 34
        }
      ]
    },
    {
      "cell_type": "code",
      "source": [
        "from langchain import PromptTemplate\n",
        "\n",
        "fact_extractor_template = \"\"\"\n",
        "Answer the question based on the context below. If the\n",
        "question cannot be answered using the information provided answer\n",
        "with \"I don't know\".\n",
        "\n",
        "Context: Extract the key facts from this text. Don't include opinions. Give each fact a number and keep then short sentences.\n",
        "Question: {text_input}\n",
        "Answer: \n",
        "\n",
        "\"\"\"\n",
        "fact_extractor_prompt = PromptTemplate(\n",
        "          template=fact_extractor_template,\n",
        "          input_variables=['text_input'],\n",
        "          validate_template=True)"
      ],
      "metadata": {
        "id": "aHZhRbgwMxEW"
      },
      "execution_count": null,
      "outputs": []
    },
    {
      "cell_type": "markdown",
      "source": [
        "#### Setup Query"
      ],
      "metadata": {
        "id": "9OBBupiSL8D5"
      }
    },
    {
      "cell_type": "code",
      "source": [
        "print(\n",
        "    fact_extractor_prompt.format(\n",
        "        text_input=article\n",
        "    )\n",
        ")"
      ],
      "metadata": {
        "colab": {
          "base_uri": "https://localhost:8080/"
        },
        "id": "6g5vnJVfHqwo",
        "outputId": "442d4d3f-295e-4946-e1f7-aa342f7efacd"
      },
      "execution_count": null,
      "outputs": [
        {
          "output_type": "stream",
          "name": "stdout",
          "text": [
            "\n",
            "Answer the question based on the context below. If the\n",
            "question cannot be answered using the information provided answer\n",
            "with \"I don't know\".\n",
            "\n",
            "Context: Extract the key facts from this text. Don't include opinions. Give each fact a number and keep then short sentences.\n",
            "Question: \n",
            "Coinbase, the second largets crypto exchange by trading volumd, released its Q4 2022 earnings on Tuesday showing it's earnings were down 65% to $515 million and operating expenses were up 5% to $750 million.\n",
            "\n",
            "Answer: \n",
            "\n",
            "\n"
          ]
        }
      ]
    },
    {
      "cell_type": "markdown",
      "source": [
        "#### Create LLMChain"
      ],
      "metadata": {
        "id": "Z-6oZ986MASe"
      }
    },
    {
      "cell_type": "code",
      "source": [
        "from langchain import LLMChain\n",
        "\n",
        "fact_extractor_chain = LLMChain(prompt=fact_extractor_prompt, llm=llm)"
      ],
      "metadata": {
        "id": "UhA4sc7GDSQa"
      },
      "execution_count": null,
      "outputs": []
    },
    {
      "cell_type": "markdown",
      "source": [
        "#### Call LLM endpoint"
      ],
      "metadata": {
        "id": "M3XujYIVMDne"
      }
    },
    {
      "cell_type": "code",
      "source": [
        "facts = fact_extractor_chain.run(article)"
      ],
      "metadata": {
        "id": "gHYEGD-j7ehf"
      },
      "execution_count": null,
      "outputs": []
    },
    {
      "cell_type": "code",
      "source": [
        "print(facts)\n",
        "len(facts)"
      ],
      "metadata": {
        "colab": {
          "base_uri": "https://localhost:8080/"
        },
        "id": "MKhJ13gIle56",
        "outputId": "48da23b2-b534-4b36-9fa8-767e9e3dbc90"
      },
      "execution_count": null,
      "outputs": [
        {
          "output_type": "stream",
          "name": "stdout",
          "text": [
            "1. Coinbase is the second largest crypto exchange by trading volume.\n",
            "2. Coinbase released its Q4 2022 earnings on Tuesday.\n",
            "3. Coinbase's earnings were down 65% to $515 million.\n",
            "4. Coinbase's operating expenses were up 5% to $750 million.\n"
          ]
        },
        {
          "output_type": "execute_result",
          "data": {
            "text/plain": [
              "237"
            ]
          },
          "metadata": {},
          "execution_count": 21
        }
      ]
    },
    {
      "cell_type": "markdown",
      "source": [
        "#### Summarization"
      ],
      "metadata": {
        "id": "r0F1S1d05FQg"
      }
    },
    {
      "cell_type": "code",
      "source": [
        "summarization_template = \"\"\"\n",
        "Answer the question based on the context below. If the\n",
        "question cannot be answered using the information provided answer\n",
        "with \"I don't know\".\n",
        "\n",
        "Context: You are a financial analyst. Take the following list of facts and write a short summary paragraph for investors. Do not include opinions and do not omit key facts.\n",
        "Facts: {facts}\n",
        "Answer: \n",
        "\n",
        "\"\"\"\n",
        "summarization_prompt = PromptTemplate(\n",
        "          template=summarization_template,\n",
        "          input_variables=['facts'],\n",
        "          validate_template=True)"
      ],
      "metadata": {
        "id": "WcJ3OLSQ4YWA"
      },
      "execution_count": null,
      "outputs": []
    },
    {
      "cell_type": "code",
      "source": [
        "investor_update_chain = LLMChain(prompt=summarization_prompt, llm=llm)\n",
        "\n",
        "investor_update = investor_update_chain.run(facts)\n",
        "\n",
        "print(investor_update)\n",
        "len(investor_update)"
      ],
      "metadata": {
        "colab": {
          "base_uri": "https://localhost:8080/"
        },
        "id": "Scrj8DK1521_",
        "outputId": "c0976984-dbda-4ef3-e59c-ec57e10d9f32"
      },
      "execution_count": null,
      "outputs": [
        {
          "output_type": "stream",
          "name": "stdout",
          "text": [
            "Coinbase, the second largest crypto exchange by trading volume, released its Q4 2022 earnings on Tuesday. The earnings were down 65% to $515 million, while the operating expenses were up 5% to $750 million.\n"
          ]
        },
        {
          "output_type": "execute_result",
          "data": {
            "text/plain": [
              "206"
            ]
          },
          "metadata": {},
          "execution_count": 19
        }
      ]
    },
    {
      "cell_type": "markdown",
      "source": [
        "### Sequential chains"
      ],
      "metadata": {
        "id": "7YoVMFLX7vZo"
      }
    },
    {
      "cell_type": "code",
      "source": [
        "from langchain.chains import SequentialChain, SimpleSequentialChain"
      ],
      "metadata": {
        "id": "K9LcNG4q56ul"
      },
      "execution_count": null,
      "outputs": []
    },
    {
      "cell_type": "code",
      "source": [
        "full_chain = SimpleSequentialChain(chains=[fact_extractor_chain, investor_update_chain], verbose=True)\n",
        "response = full_chain.run(article)"
      ],
      "metadata": {
        "colab": {
          "base_uri": "https://localhost:8080/"
        },
        "id": "9noIq7c_76TH",
        "outputId": "8cb65657-a834-405c-a85f-702ab04aef47"
      },
      "execution_count": null,
      "outputs": [
        {
          "output_type": "stream",
          "name": "stdout",
          "text": [
            "\n",
            "\n",
            "\u001b[1m> Entering new SimpleSequentialChain chain...\u001b[0m\n",
            "\u001b[36;1m\u001b[1;3m1. Coinbase is the second largest crypto exchange by trading volume.\n",
            "2. Coinbase released its Q4 2022 earnings on Tuesday.\n",
            "3. Coinbase's earnings were down 65% to $515 million.\n",
            "4. Coinbase's operating expenses were up 5% to $750 million.\u001b[0m\n",
            "\u001b[33;1m\u001b[1;3mCoinbase, the second largest crypto exchange by trading volume, released its Q4 2022 earnings on Tuesday. The earnings were down 65% to $515 million, while the operating expenses were up 5% to $750 million.\u001b[0m\n",
            "\n",
            "\u001b[1m> Finished chain.\u001b[0m\n"
          ]
        }
      ]
    },
    {
      "cell_type": "code",
      "source": [
        "print(response)\n",
        "len(response)"
      ],
      "metadata": {
        "colab": {
          "base_uri": "https://localhost:8080/"
        },
        "id": "_gRcZGk98L20",
        "outputId": "77691c49-e2aa-4486-a162-71e5a8bf8a8c"
      },
      "execution_count": null,
      "outputs": [
        {
          "output_type": "stream",
          "name": "stdout",
          "text": [
            "Coinbase, the second largest crypto exchange by trading volume, released its Q4 2022 earnings on Tuesday. The earnings were down 65% to $515 million, while the operating expenses were up 5% to $750 million.\n"
          ]
        },
        {
          "output_type": "execute_result",
          "data": {
            "text/plain": [
              "206"
            ]
          },
          "metadata": {},
          "execution_count": 24
        }
      ]
    },
    {
      "cell_type": "markdown",
      "source": [
        "### Memory"
      ],
      "metadata": {
        "id": "___m2YQmDwMG"
      }
    },
    {
      "cell_type": "code",
      "source": [
        "from langchain.memory import ConversationBufferMemory\n",
        "\n",
        "conv_buffer_memory = ConversationBufferMemory()"
      ],
      "metadata": {
        "id": "1qX2_JplBeRj"
      },
      "execution_count": null,
      "outputs": []
    },
    {
      "cell_type": "code",
      "source": [
        "full_chain = SimpleSequentialChain(chains=[fact_extractor_chain, investor_update_chain], memory=conv_buffer_memory, verbose=True)\n",
        "response = full_chain.run(article)"
      ],
      "metadata": {
        "colab": {
          "base_uri": "https://localhost:8080/"
        },
        "id": "SwiqjvjjBlJH",
        "outputId": "b29dd6f6-12ea-4bc3-b40e-d4c0e9f943a3"
      },
      "execution_count": null,
      "outputs": [
        {
          "output_type": "stream",
          "name": "stdout",
          "text": [
            "\n",
            "\n",
            "\u001b[1m> Entering new SimpleSequentialChain chain...\u001b[0m\n",
            "\u001b[36;1m\u001b[1;3m1. Coinbase is the second largest crypto exchange by trading volume.\n",
            "2. Coinbase released its Q4 2022 earnings on Tuesday.\n",
            "3. Coinbase's earnings were down 65% to $515 million.\n",
            "4. Coinbase's operating expenses were up 5% to $750 million.\u001b[0m\n",
            "\u001b[33;1m\u001b[1;3mCoinbase, the second largest crypto exchange by trading volume, released its Q4 2022 earnings on Tuesday. The earnings were down 65% to $515 million, while the operating expenses were up 5% to $750 million.\u001b[0m\n",
            "\n",
            "\u001b[1m> Finished chain.\u001b[0m\n"
          ]
        }
      ]
    },
    {
      "cell_type": "code",
      "source": [
        "print(response)\n",
        "print(len(response))\n",
        "print(conv_buffer_memory)"
      ],
      "metadata": {
        "colab": {
          "base_uri": "https://localhost:8080/"
        },
        "id": "q1ik4_pkBzYw",
        "outputId": "0045c4c7-5272-45b8-c46f-b452dad3bc25"
      },
      "execution_count": null,
      "outputs": [
        {
          "output_type": "stream",
          "name": "stdout",
          "text": [
            "Coinbase, the second largest crypto exchange by trading volume, released its Q4 2022 earnings on Tuesday. The earnings were down 65% to $515 million, while the operating expenses were up 5% to $750 million.\n",
            "206\n",
            "chat_memory=ChatMessageHistory(messages=[HumanMessage(content=\"\\nCoinbase, the second largets crypto exchange by trading volumd, released its Q4 2022 earnings on Tuesday showing it's earnings were down 65% to $515 million and operating expenses were up 5% to $750 million.\\n\", additional_kwargs={}, example=False), AIMessage(content='Coinbase, the second largest crypto exchange by trading volume, released its Q4 2022 earnings on Tuesday. The earnings were down 65% to $515 million, while the operating expenses were up 5% to $750 million.', additional_kwargs={}, example=False)]) output_key=None input_key=None return_messages=False human_prefix='Human' ai_prefix='AI' memory_key='history'\n"
          ]
        }
      ]
    },
    {
      "cell_type": "code",
      "source": [
        "for m in conv_buffer_memory.chat_memory.messages:\n",
        "  print(f'{m.type}: {m.content}')\n"
      ],
      "metadata": {
        "colab": {
          "base_uri": "https://localhost:8080/"
        },
        "id": "55UwjWmdCBrt",
        "outputId": "5904dd8c-99c0-4f99-bfc3-affde9a8dd4a"
      },
      "execution_count": null,
      "outputs": [
        {
          "output_type": "stream",
          "name": "stdout",
          "text": [
            "human: \n",
            "Coinbase, the second largets crypto exchange by trading volumd, released its Q4 2022 earnings on Tuesday showing it's earnings were down 65% to $515 million and operating expenses were up 5% to $750 million.\n",
            "\n",
            "ai: Coinbase, the second largest crypto exchange by trading volume, released its Q4 2022 earnings on Tuesday. The earnings were down 65% to $515 million, while the operating expenses were up 5% to $750 million.\n"
          ]
        }
      ]
    },
    {
      "cell_type": "code",
      "source": [
        "from typing import TypeVar, Generic\n",
        "\n",
        "T = TypeVar('T')\n",
        "\n",
        "class Stack(Generic[T]):\n",
        "    def __init__(self) -> None:\n",
        "        # Create an empty list with items of type T\n",
        "        self.items: list[T] = []\n",
        "\n",
        "    def push(self, item: T) -> None:\n",
        "        self.items.append(item)\n",
        "\n",
        "    def pop(self) -> T:\n",
        "        return self.items.pop()\n",
        "\n",
        "    def empty(self) -> bool:\n",
        "        return not self.items"
      ],
      "metadata": {
        "id": "IgyWMcg0Poi4"
      },
      "execution_count": null,
      "outputs": []
    },
    {
      "cell_type": "code",
      "source": [
        "# Construct an empty Stack[int] instance\n",
        "stack = Stack[int]()\n",
        "stack.push(2)\n",
        "stack.pop()\n",
        "stack.push('x') "
      ],
      "metadata": {
        "id": "4zmX2eLZaEFh"
      },
      "execution_count": null,
      "outputs": []
    },
    {
      "cell_type": "code",
      "source": [],
      "metadata": {
        "id": "2vE6kRREP6QS"
      },
      "execution_count": null,
      "outputs": []
    }
  ]
}